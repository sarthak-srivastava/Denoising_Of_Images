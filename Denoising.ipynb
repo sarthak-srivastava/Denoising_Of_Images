{
  "nbformat": 4,
  "nbformat_minor": 0,
  "metadata": {
    "colab": {
      "name": "Denoising.ipynb",
      "provenance": [],
      "authorship_tag": "ABX9TyP7emdZvljeWBaCGAorksc5",
      "include_colab_link": true
    },
    "kernelspec": {
      "name": "python3",
      "display_name": "Python 3"
    }
  },
  "cells": [
    {
      "cell_type": "markdown",
      "metadata": {
        "id": "view-in-github",
        "colab_type": "text"
      },
      "source": [
        "<a href=\"https://colab.research.google.com/github/sarthak-srivastava/Denoising_Of_Images/blob/master/Denoising.ipynb\" target=\"_parent\"><img src=\"https://colab.research.google.com/assets/colab-badge.svg\" alt=\"Open In Colab\"/></a>"
      ]
    },
    {
      "cell_type": "code",
      "metadata": {
        "id": "nDHJFgPOATwy",
        "colab_type": "code",
        "colab": {}
      },
      "source": [
        "import numpy as np\n",
        "import keras.datasets.cifar10 as cf10"
      ],
      "execution_count": 40,
      "outputs": []
    },
    {
      "cell_type": "code",
      "metadata": {
        "id": "2D3wA397AiL2",
        "colab_type": "code",
        "colab": {}
      },
      "source": [
        "import matplotlib.pyplot as plt\n",
        "from keras.layers import Conv2D, Input, Dense, Reshape, Conv2DTranspose, Activation, BatchNormalization, ReLU, Concatenate\n",
        "from keras.models import Model\n",
        "from keras.callbacks import ModelCheckpoint"
      ],
      "execution_count": 41,
      "outputs": []
    },
    {
      "cell_type": "code",
      "metadata": {
        "id": "BAiXqPbfCZPO",
        "colab_type": "code",
        "colab": {}
      },
      "source": [
        "(train_x, train_y), (test_x, test_y) = cf10.load_data()\n",
        "train_x = train_x.astype('float32')/255 # Normalize the data points\n",
        "test_x = test_x.astype('float32')/255"
      ],
      "execution_count": 42,
      "outputs": []
    },
    {
      "cell_type": "code",
      "metadata": {
        "id": "qr7K-d6NLNZC",
        "colab_type": "code",
        "colab": {
          "base_uri": "https://localhost:8080/",
          "height": 34
        },
        "outputId": "41a4efca-35bc-4f95-999f-271acb69ffa5"
      },
      "source": [
        "train_x[0].shape  # dimensions of a single image"
      ],
      "execution_count": 43,
      "outputs": [
        {
          "output_type": "execute_result",
          "data": {
            "text/plain": [
              "(32, 32, 3)"
            ]
          },
          "metadata": {
            "tags": []
          },
          "execution_count": 43
        }
      ]
    },
    {
      "cell_type": "code",
      "metadata": {
        "id": "6rL9-L33DA0i",
        "colab_type": "code",
        "colab": {}
      },
      "source": [
        "def noising_and_clipping(data):\n",
        "   noise = np.random.normal(loc=0.0, scale=0.2, size=data.shape)\n",
        "   data = data + noise\n",
        "   data = np.clip(data, 0., 1.)\n",
        "   return data\n",
        "   \n",
        "train_data_noisy = noising_and_clipping(train_x)\n",
        "test_data_noisy = noising_and_clipping(test_x)"
      ],
      "execution_count": 73,
      "outputs": []
    },
    {
      "cell_type": "code",
      "metadata": {
        "id": "MlgZoAjoDQFP",
        "colab_type": "code",
        "colab": {
          "base_uri": "https://localhost:8080/",
          "height": 216
        },
        "outputId": "232ecffb-185d-44d7-cd4c-ede4de0b2914"
      },
      "source": [
        "idx = 25\n",
        "plt.subplot(1,2,1)\n",
        "plt.imshow(train_x[idx])\n",
        "plt.title('Original image')\n",
        "plt.subplot(1,2,2)\n",
        "plt.imshow(train_data_noisy[idx])\n",
        "plt.title('Image with noise')\n",
        "plt.show()"
      ],
      "execution_count": 74,
      "outputs": [
        {
          "output_type": "display_data",
          "data": {
            "image/png": "[encoded data removed]",
            "text/plain": [
              "<Figure size 432x288 with 2 Axes>"
            ]
          },
          "metadata": {
            "tags": [],
            "needs_background": "light"
          }
        }
      ]
    },
    {
      "cell_type": "code",
      "metadata": {
        "id": "_O9DFaSoDagD",
        "colab_type": "code",
        "colab": {}
      },
      "source": [
        "# Now we have noisy data + Clean data. We can come up with something to train a model to clean up the image noise."
      ],
      "execution_count": 46,
      "outputs": []
    },
    {
      "cell_type": "code",
      "metadata": {
        "id": "z2V80zB3EKek",
        "colab_type": "code",
        "colab": {}
      },
      "source": [
        "# Enter Auto Encoder. We are aiming to convolve the image pixels into lower dimensional space, from where on we can start reconstructing the image in such a way that noise part \n",
        "# is skipped out of the final output image. Training the model with above generate input-output pair can help us with that."
      ],
      "execution_count": 47,
      "outputs": []
    },
    {
      "cell_type": "code",
      "metadata": {
        "id": "XNItv7G0EsyO",
        "colab_type": "code",
        "colab": {}
      },
      "source": [
        "def conv_block(x, filters, kernel_size, strides=2):\n",
        "   x = Conv2D(filters=filters,\n",
        "              kernel_size=kernel_size,\n",
        "              strides=strides,\n",
        "              padding='same')(x)\n",
        "   x = BatchNormalization()(x)\n",
        "   x = ReLU()(x)\n",
        "   return x\n",
        "def deconv_block(x, filters, kernel_size):\n",
        "   x = Conv2DTranspose(filters=filters,\n",
        "                       kernel_size=kernel_size,\n",
        "                       strides=2,\n",
        "                       padding='same')(x)\n",
        "   x = BatchNormalization()(x)\n",
        "   x = ReLU()(x)\n",
        "   return x"
      ],
      "execution_count": 48,
      "outputs": []
    },
    {
      "cell_type": "code",
      "metadata": {
        "id": "HAH4L1BNFg_Z",
        "colab_type": "code",
        "colab": {}
      },
      "source": [
        "\n",
        "def denoising_autoencoder():\n",
        "   dae_inputs = Input(shape=(32, 32, 3), name='dae_input')\n",
        "   conv_block1 = conv_block(dae_inputs, 32, 3)\n",
        "   conv_block2 = conv_block(conv_block1, 64, 3)\n",
        "   conv_block3 = conv_block(conv_block2, 128, 3)\n",
        "   conv_block4 = conv_block(conv_block3, 128, 3, 1)\n",
        "   deconv_block1 = deconv_block(conv_block4, 128, 3)\n",
        "   merge1 = Concatenate()([deconv_block1, conv_block2])\n",
        "   deconv_block2 = deconv_block(merge1, 64, 3)\n",
        "   merge2 = Concatenate()([deconv_block2, conv_block1])\n",
        "   deconv_block3 = deconv_block(merge2, 32, 3)\n",
        "   final_deconv = Conv2DTranspose(filters=3,\n",
        "                       kernel_size=3,\n",
        "                       padding='same')(deconv_block3)\n",
        "   dae_outputs = Activation('sigmoid', name='dae_output')(final_deconv)\n",
        "  \n",
        "   return Model(dae_inputs, dae_outputs, name='dae')"
      ],
      "execution_count": 68,
      "outputs": []
    },
    {
      "cell_type": "code",
      "metadata": {
        "id": "ulUT7A4-GXxD",
        "colab_type": "code",
        "colab": {
          "base_uri": "https://localhost:8080/",
          "height": 118
        },
        "outputId": "dfe221dd-12d0-4545-bc6b-3c2b9d042840"
      },
      "source": [
        "dae = denoising_autoencoder()\n",
        "dae.compile(loss='mse', optimizer='adam')\n",
        "checkpoint = ModelCheckpoint('model.h5', verbose=1, save_best_only=True, save_weights_only=True)\n",
        "\n",
        "dae.fit(train_data_noisy,\n",
        "       train_x,\n",
        "       validation_data=(test_data_noisy, test_x),\n",
        "       epochs=1,\n",
        "       batch_size=256,\n",
        "       callbacks=[checkpoint])"
      ],
      "execution_count": 69,
      "outputs": [
        {
          "output_type": "stream",
          "text": [
            "Train on 50000 samples, validate on 10000 samples\n",
            "Epoch 1/1\n",
            "50000/50000 [==============================] - 293s 6ms/step - loss: 0.0060 - val_loss: 0.0248\n",
            "\n",
            "Epoch 00001: val_loss improved from inf to 0.02477, saving model to model.h5\n"
          ],
          "name": "stdout"
        },
        {
          "output_type": "execute_result",
          "data": {
            "text/plain": [
              "<keras.callbacks.callbacks.History at 0x7fb1b233d518>"
            ]
          },
          "metadata": {
            "tags": []
          },
          "execution_count": 69
        }
      ]
    },
    {
      "cell_type": "code",
      "metadata": {
        "id": "xjfQtxWLGeCl",
        "colab_type": "code",
        "colab": {
          "base_uri": "https://localhost:8080/",
          "height": 162
        },
        "outputId": "9746b75b-739d-43d9-c19e-59d2f73e433d"
      },
      "source": [
        "dae.load_weights('model.h5')\n",
        "test_data_denoised = dae.predict(test_data_noisy)\n",
        "idx = 4\n",
        "plt.subplot(1,3,1)\n",
        "plt.imshow(test_x[idx])\n",
        "plt.title('original')\n",
        "plt.subplot(1,3,2)\n",
        "plt.imshow(test_data_noisy[idx])\n",
        "plt.title('noisy')\n",
        "plt.subplot(1,3,3)\n",
        "plt.imshow(test_data_denoised[idx])\n",
        "plt.title('denoised')\n",
        "plt.show()"
      ],
      "execution_count": 70,
      "outputs": [
        {
          "output_type": "display_data",
          "data": {
            "image/png": "[encoded data removed]",
            "text/plain": [
              "<Figure size 432x288 with 3 Axes>"
            ]
          },
          "metadata": {
            "tags": [],
            "needs_background": "light"
          }
        }
      ]
    },
    {
      "cell_type": "code",
      "metadata": {
        "id": "6zhoX_fBRgDN",
        "colab_type": "code",
        "colab": {
          "base_uri": "https://localhost:8080/",
          "height": 162
        },
        "outputId": "757adc85-5ab3-4a88-b878-9082753084d3"
      },
      "source": [
        "idx = 73\n",
        "plt.subplot(1,3,1)\n",
        "plt.imshow(test_x[idx])\n",
        "plt.title('original')\n",
        "plt.subplot(1,3,2)\n",
        "plt.imshow(test_data_noisy[idx])\n",
        "plt.title('noisy')\n",
        "plt.subplot(1,3,3)\n",
        "plt.imshow(test_data_denoised[idx])\n",
        "plt.title('denoised')\n",
        "plt.show()"
      ],
      "execution_count": 76,
      "outputs": [
        {
          "output_type": "display_data",
          "data": {
            "image/png": "[encoded data removed]",
            "text/plain": [
              "<Figure size 432x288 with 3 Axes>"
            ]
          },
          "metadata": {
            "tags": [],
            "needs_background": "light"
          }
        }
      ]
    },
    {
      "cell_type": "code",
      "metadata": {
        "id": "qN5f21HSN2kP",
        "colab_type": "code",
        "colab": {}
      },
      "source": [
        ""
      ],
      "execution_count": null,
      "outputs": []
    }
  ]
}